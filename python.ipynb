{
 "cells": [
  {
   "cell_type": "code",
   "execution_count": 8,
   "metadata": {},
   "outputs": [
    {
     "name": "stdout",
     "output_type": "stream",
     "text": [
      "23.5\n",
      "19\n",
      "446.5\n",
      "85.0\n"
     ]
    }
   ],
   "source": [
    "hight=23.5\n",
    "weight=19\n",
    "print(hight)\n",
    "print(weight)\n",
    "print(hight*weight)\n",
    "print((hight+weight)*2)"
   ]
  },
  {
   "cell_type": "code",
   "execution_count": 30,
   "metadata": {},
   "outputs": [
    {
     "name": "stdout",
     "output_type": "stream",
     "text": [
      "3.4641016151377544\n",
      "6.928203230275509\n"
     ]
    }
   ],
   "source": [
    "s=2\n",
    "hight=3**(1/2)%2*s\n",
    "area=3**(1/2)%2*s**2\n",
    "print(hight)\n",
    "print(area)"
   ]
  },
  {
   "cell_type": "code",
   "execution_count": 31,
   "metadata": {},
   "outputs": [
    {
     "name": "stdout",
     "output_type": "stream",
     "text": [
      "27.648000000000003\n"
     ]
    }
   ],
   "source": [
    "x=10\n",
    "y=25\n",
    "z=3\n",
    "h=x/60+y/3600\n",
    "km=3/(x/60+y/3600)\n",
    "mile=1.6*km\n",
    "print(mile)"
   ]
  },
  {
   "cell_type": "code",
   "execution_count": null,
   "metadata": {},
   "outputs": [],
   "source": []
  }
 ],
 "metadata": {
  "kernelspec": {
   "display_name": "Python 3",
   "language": "python",
   "name": "python3"
  },
  "language_info": {
   "codemirror_mode": {
    "name": "ipython",
    "version": 3
   },
   "file_extension": ".py",
   "mimetype": "text/x-python",
   "name": "python",
   "nbconvert_exporter": "python",
   "pygments_lexer": "ipython3",
   "version": "3.7.4"
  }
 },
 "nbformat": 4,
 "nbformat_minor": 2
}
